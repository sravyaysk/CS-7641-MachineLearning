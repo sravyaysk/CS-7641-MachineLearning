{
 "cells": [
  {
   "cell_type": "markdown",
   "id": "06d95297",
   "metadata": {},
   "source": [
    "# Introduction"
   ]
  },
  {
   "cell_type": "markdown",
   "id": "5af5e26b",
   "metadata": {},
   "source": [
    "This dataset consists of credit card transactions that occured in Europe on September 2013. \n",
    "\n",
    "Dataset link: https://datahub.io/machine-learning/creditcard\n",
    "\n",
    "Our goal is to take all the features V1,V2,V3 and so on in the dataset and predict whether the transaction is Fraud or Not (Binary Classification problem)"
   ]
  },
  {
   "cell_type": "markdown",
   "id": "2b38ef92",
   "metadata": {},
   "source": [
    "# Setup"
   ]
  },
  {
   "cell_type": "markdown",
   "id": "b2a5d788",
   "metadata": {},
   "source": [
    "In this step we will import all the necessary packages required for this task"
   ]
  },
  {
   "cell_type": "code",
   "execution_count": 1,
   "id": "b8e2ff70",
   "metadata": {},
   "outputs": [
    {
     "data": {
      "text/html": [
       "        <script type=\"text/javascript\">\n",
       "        window.PlotlyConfig = {MathJaxConfig: 'local'};\n",
       "        if (window.MathJax) {MathJax.Hub.Config({SVG: {font: \"STIX-Web\"}});}\n",
       "        if (typeof require !== 'undefined') {\n",
       "        require.undef(\"plotly\");\n",
       "        requirejs.config({\n",
       "            paths: {\n",
       "                'plotly': ['https://cdn.plot.ly/plotly-2.9.0.min']\n",
       "            }\n",
       "        });\n",
       "        require(['plotly'], function(Plotly) {\n",
       "            window._Plotly = Plotly;\n",
       "        });\n",
       "        }\n",
       "        </script>\n",
       "        "
      ]
     },
     "metadata": {},
     "output_type": "display_data"
    }
   ],
   "source": [
    "import pandas as pd \n",
    "import numpy as np\n",
    "import matplotlib\n",
    "import matplotlib.pyplot as plt\n",
    "import seaborn as sns\n",
    "%matplotlib inline \n",
    "import plotly.graph_objs as go\n",
    "import plotly.figure_factory as ff\n",
    "from plotly import tools\n",
    "from plotly.offline import download_plotlyjs, init_notebook_mode, plot, iplot\n",
    "init_notebook_mode(connected=True)\n",
    "\n",
    "from sklearn.metrics import classification_report, accuracy_score  \n",
    "from sklearn.metrics import precision_score, recall_score \n",
    "from sklearn.metrics import f1_score, matthews_corrcoef \n",
    "from sklearn.metrics import confusion_matrix \n",
    "from sklearn.metrics import roc_auc_score\n",
    "\n",
    "from datetime import datetime \n",
    "from sklearn.preprocessing import StandardScaler\n",
    "from sklearn.model_selection import train_test_split\n",
    "from sklearn.model_selection import KFold\n",
    "from sklearn.ensemble import RandomForestClassifier\n",
    "from sklearn.ensemble import AdaBoostClassifier\n",
    "from sklearn.tree import DecisionTreeClassifier\n",
    "from sklearn.neural_network import MLPClassifier\n",
    "from sklearn.neighbors import KNeighborsClassifier\n",
    "from sklearn.linear_model import Perceptron\n",
    "from sklearn.svm import SVC"
   ]
  },
  {
   "cell_type": "markdown",
   "id": "a3188bfc",
   "metadata": {},
   "source": [
    "# Load the data"
   ]
  },
  {
   "cell_type": "code",
   "execution_count": 2,
   "id": "4792ea5e",
   "metadata": {},
   "outputs": [
    {
     "data": {
      "text/html": [
       "<div>\n",
       "<style scoped>\n",
       "    .dataframe tbody tr th:only-of-type {\n",
       "        vertical-align: middle;\n",
       "    }\n",
       "\n",
       "    .dataframe tbody tr th {\n",
       "        vertical-align: top;\n",
       "    }\n",
       "\n",
       "    .dataframe thead th {\n",
       "        text-align: right;\n",
       "    }\n",
       "</style>\n",
       "<table border=\"1\" class=\"dataframe\">\n",
       "  <thead>\n",
       "    <tr style=\"text-align: right;\">\n",
       "      <th></th>\n",
       "      <th>Time</th>\n",
       "      <th>V1</th>\n",
       "      <th>V2</th>\n",
       "      <th>V3</th>\n",
       "      <th>V4</th>\n",
       "      <th>V5</th>\n",
       "      <th>V6</th>\n",
       "      <th>V7</th>\n",
       "      <th>V8</th>\n",
       "      <th>V9</th>\n",
       "      <th>...</th>\n",
       "      <th>V21</th>\n",
       "      <th>V22</th>\n",
       "      <th>V23</th>\n",
       "      <th>V24</th>\n",
       "      <th>V25</th>\n",
       "      <th>V26</th>\n",
       "      <th>V27</th>\n",
       "      <th>V28</th>\n",
       "      <th>Amount</th>\n",
       "      <th>Class</th>\n",
       "    </tr>\n",
       "  </thead>\n",
       "  <tbody>\n",
       "    <tr>\n",
       "      <th>0</th>\n",
       "      <td>0.0</td>\n",
       "      <td>-1.359807</td>\n",
       "      <td>-0.072781</td>\n",
       "      <td>2.536347</td>\n",
       "      <td>1.378155</td>\n",
       "      <td>-0.338321</td>\n",
       "      <td>0.462388</td>\n",
       "      <td>0.239599</td>\n",
       "      <td>0.098698</td>\n",
       "      <td>0.363787</td>\n",
       "      <td>...</td>\n",
       "      <td>-0.018307</td>\n",
       "      <td>0.277838</td>\n",
       "      <td>-0.110474</td>\n",
       "      <td>0.066928</td>\n",
       "      <td>0.128539</td>\n",
       "      <td>-0.189115</td>\n",
       "      <td>0.133558</td>\n",
       "      <td>-0.021053</td>\n",
       "      <td>149.62</td>\n",
       "      <td>0</td>\n",
       "    </tr>\n",
       "    <tr>\n",
       "      <th>1</th>\n",
       "      <td>0.0</td>\n",
       "      <td>1.191857</td>\n",
       "      <td>0.266151</td>\n",
       "      <td>0.166480</td>\n",
       "      <td>0.448154</td>\n",
       "      <td>0.060018</td>\n",
       "      <td>-0.082361</td>\n",
       "      <td>-0.078803</td>\n",
       "      <td>0.085102</td>\n",
       "      <td>-0.255425</td>\n",
       "      <td>...</td>\n",
       "      <td>-0.225775</td>\n",
       "      <td>-0.638672</td>\n",
       "      <td>0.101288</td>\n",
       "      <td>-0.339846</td>\n",
       "      <td>0.167170</td>\n",
       "      <td>0.125895</td>\n",
       "      <td>-0.008983</td>\n",
       "      <td>0.014724</td>\n",
       "      <td>2.69</td>\n",
       "      <td>0</td>\n",
       "    </tr>\n",
       "    <tr>\n",
       "      <th>2</th>\n",
       "      <td>1.0</td>\n",
       "      <td>-1.358354</td>\n",
       "      <td>-1.340163</td>\n",
       "      <td>1.773209</td>\n",
       "      <td>0.379780</td>\n",
       "      <td>-0.503198</td>\n",
       "      <td>1.800499</td>\n",
       "      <td>0.791461</td>\n",
       "      <td>0.247676</td>\n",
       "      <td>-1.514654</td>\n",
       "      <td>...</td>\n",
       "      <td>0.247998</td>\n",
       "      <td>0.771679</td>\n",
       "      <td>0.909412</td>\n",
       "      <td>-0.689281</td>\n",
       "      <td>-0.327642</td>\n",
       "      <td>-0.139097</td>\n",
       "      <td>-0.055353</td>\n",
       "      <td>-0.059752</td>\n",
       "      <td>378.66</td>\n",
       "      <td>0</td>\n",
       "    </tr>\n",
       "    <tr>\n",
       "      <th>3</th>\n",
       "      <td>1.0</td>\n",
       "      <td>-0.966272</td>\n",
       "      <td>-0.185226</td>\n",
       "      <td>1.792993</td>\n",
       "      <td>-0.863291</td>\n",
       "      <td>-0.010309</td>\n",
       "      <td>1.247203</td>\n",
       "      <td>0.237609</td>\n",
       "      <td>0.377436</td>\n",
       "      <td>-1.387024</td>\n",
       "      <td>...</td>\n",
       "      <td>-0.108300</td>\n",
       "      <td>0.005274</td>\n",
       "      <td>-0.190321</td>\n",
       "      <td>-1.175575</td>\n",
       "      <td>0.647376</td>\n",
       "      <td>-0.221929</td>\n",
       "      <td>0.062723</td>\n",
       "      <td>0.061458</td>\n",
       "      <td>123.50</td>\n",
       "      <td>0</td>\n",
       "    </tr>\n",
       "    <tr>\n",
       "      <th>4</th>\n",
       "      <td>2.0</td>\n",
       "      <td>-1.158233</td>\n",
       "      <td>0.877737</td>\n",
       "      <td>1.548718</td>\n",
       "      <td>0.403034</td>\n",
       "      <td>-0.407193</td>\n",
       "      <td>0.095921</td>\n",
       "      <td>0.592941</td>\n",
       "      <td>-0.270533</td>\n",
       "      <td>0.817739</td>\n",
       "      <td>...</td>\n",
       "      <td>-0.009431</td>\n",
       "      <td>0.798278</td>\n",
       "      <td>-0.137458</td>\n",
       "      <td>0.141267</td>\n",
       "      <td>-0.206010</td>\n",
       "      <td>0.502292</td>\n",
       "      <td>0.219422</td>\n",
       "      <td>0.215153</td>\n",
       "      <td>69.99</td>\n",
       "      <td>0</td>\n",
       "    </tr>\n",
       "  </tbody>\n",
       "</table>\n",
       "<p>5 rows × 31 columns</p>\n",
       "</div>"
      ],
      "text/plain": [
       "   Time        V1        V2        V3        V4        V5        V6        V7  \\\n",
       "0   0.0 -1.359807 -0.072781  2.536347  1.378155 -0.338321  0.462388  0.239599   \n",
       "1   0.0  1.191857  0.266151  0.166480  0.448154  0.060018 -0.082361 -0.078803   \n",
       "2   1.0 -1.358354 -1.340163  1.773209  0.379780 -0.503198  1.800499  0.791461   \n",
       "3   1.0 -0.966272 -0.185226  1.792993 -0.863291 -0.010309  1.247203  0.237609   \n",
       "4   2.0 -1.158233  0.877737  1.548718  0.403034 -0.407193  0.095921  0.592941   \n",
       "\n",
       "         V8        V9  ...       V21       V22       V23       V24       V25  \\\n",
       "0  0.098698  0.363787  ... -0.018307  0.277838 -0.110474  0.066928  0.128539   \n",
       "1  0.085102 -0.255425  ... -0.225775 -0.638672  0.101288 -0.339846  0.167170   \n",
       "2  0.247676 -1.514654  ...  0.247998  0.771679  0.909412 -0.689281 -0.327642   \n",
       "3  0.377436 -1.387024  ... -0.108300  0.005274 -0.190321 -1.175575  0.647376   \n",
       "4 -0.270533  0.817739  ... -0.009431  0.798278 -0.137458  0.141267 -0.206010   \n",
       "\n",
       "        V26       V27       V28  Amount  Class  \n",
       "0 -0.189115  0.133558 -0.021053  149.62      0  \n",
       "1  0.125895 -0.008983  0.014724    2.69      0  \n",
       "2 -0.139097 -0.055353 -0.059752  378.66      0  \n",
       "3 -0.221929  0.062723  0.061458  123.50      0  \n",
       "4  0.502292  0.219422  0.215153   69.99      0  \n",
       "\n",
       "[5 rows x 31 columns]"
      ]
     },
     "execution_count": 2,
     "metadata": {},
     "output_type": "execute_result"
    }
   ],
   "source": [
    "dataframe = pd.read_csv(\"./data/creditcard.csv\") \n",
    "dataframe.head()"
   ]
  },
  {
   "cell_type": "code",
   "execution_count": 3,
   "id": "ba7bd977",
   "metadata": {},
   "outputs": [
    {
     "data": {
      "text/html": [
       "<div>\n",
       "<style scoped>\n",
       "    .dataframe tbody tr th:only-of-type {\n",
       "        vertical-align: middle;\n",
       "    }\n",
       "\n",
       "    .dataframe tbody tr th {\n",
       "        vertical-align: top;\n",
       "    }\n",
       "\n",
       "    .dataframe thead th {\n",
       "        text-align: right;\n",
       "    }\n",
       "</style>\n",
       "<table border=\"1\" class=\"dataframe\">\n",
       "  <thead>\n",
       "    <tr style=\"text-align: right;\">\n",
       "      <th></th>\n",
       "      <th>Time</th>\n",
       "      <th>V1</th>\n",
       "      <th>V2</th>\n",
       "      <th>V3</th>\n",
       "      <th>V4</th>\n",
       "      <th>V5</th>\n",
       "      <th>V6</th>\n",
       "      <th>V7</th>\n",
       "      <th>V8</th>\n",
       "      <th>V9</th>\n",
       "      <th>...</th>\n",
       "      <th>V21</th>\n",
       "      <th>V22</th>\n",
       "      <th>V23</th>\n",
       "      <th>V24</th>\n",
       "      <th>V25</th>\n",
       "      <th>V26</th>\n",
       "      <th>V27</th>\n",
       "      <th>V28</th>\n",
       "      <th>Amount</th>\n",
       "      <th>Class</th>\n",
       "    </tr>\n",
       "  </thead>\n",
       "  <tbody>\n",
       "    <tr>\n",
       "      <th>count</th>\n",
       "      <td>284807.000000</td>\n",
       "      <td>2.848070e+05</td>\n",
       "      <td>2.848070e+05</td>\n",
       "      <td>2.848070e+05</td>\n",
       "      <td>2.848070e+05</td>\n",
       "      <td>2.848070e+05</td>\n",
       "      <td>2.848070e+05</td>\n",
       "      <td>2.848070e+05</td>\n",
       "      <td>2.848070e+05</td>\n",
       "      <td>2.848070e+05</td>\n",
       "      <td>...</td>\n",
       "      <td>2.848070e+05</td>\n",
       "      <td>2.848070e+05</td>\n",
       "      <td>2.848070e+05</td>\n",
       "      <td>2.848070e+05</td>\n",
       "      <td>2.848070e+05</td>\n",
       "      <td>2.848070e+05</td>\n",
       "      <td>2.848070e+05</td>\n",
       "      <td>2.848070e+05</td>\n",
       "      <td>284807.000000</td>\n",
       "      <td>284807.000000</td>\n",
       "    </tr>\n",
       "    <tr>\n",
       "      <th>mean</th>\n",
       "      <td>94813.859575</td>\n",
       "      <td>3.918649e-15</td>\n",
       "      <td>5.682686e-16</td>\n",
       "      <td>-8.761736e-15</td>\n",
       "      <td>2.811118e-15</td>\n",
       "      <td>-1.552103e-15</td>\n",
       "      <td>2.040130e-15</td>\n",
       "      <td>-1.698953e-15</td>\n",
       "      <td>-1.893285e-16</td>\n",
       "      <td>-3.147640e-15</td>\n",
       "      <td>...</td>\n",
       "      <td>1.473120e-16</td>\n",
       "      <td>8.042109e-16</td>\n",
       "      <td>5.282512e-16</td>\n",
       "      <td>4.456271e-15</td>\n",
       "      <td>1.426896e-15</td>\n",
       "      <td>1.701640e-15</td>\n",
       "      <td>-3.662252e-16</td>\n",
       "      <td>-1.217809e-16</td>\n",
       "      <td>88.349619</td>\n",
       "      <td>0.001727</td>\n",
       "    </tr>\n",
       "    <tr>\n",
       "      <th>std</th>\n",
       "      <td>47488.145955</td>\n",
       "      <td>1.958696e+00</td>\n",
       "      <td>1.651309e+00</td>\n",
       "      <td>1.516255e+00</td>\n",
       "      <td>1.415869e+00</td>\n",
       "      <td>1.380247e+00</td>\n",
       "      <td>1.332271e+00</td>\n",
       "      <td>1.237094e+00</td>\n",
       "      <td>1.194353e+00</td>\n",
       "      <td>1.098632e+00</td>\n",
       "      <td>...</td>\n",
       "      <td>7.345240e-01</td>\n",
       "      <td>7.257016e-01</td>\n",
       "      <td>6.244603e-01</td>\n",
       "      <td>6.056471e-01</td>\n",
       "      <td>5.212781e-01</td>\n",
       "      <td>4.822270e-01</td>\n",
       "      <td>4.036325e-01</td>\n",
       "      <td>3.300833e-01</td>\n",
       "      <td>250.120109</td>\n",
       "      <td>0.041527</td>\n",
       "    </tr>\n",
       "    <tr>\n",
       "      <th>min</th>\n",
       "      <td>0.000000</td>\n",
       "      <td>-5.640751e+01</td>\n",
       "      <td>-7.271573e+01</td>\n",
       "      <td>-4.832559e+01</td>\n",
       "      <td>-5.683171e+00</td>\n",
       "      <td>-1.137433e+02</td>\n",
       "      <td>-2.616051e+01</td>\n",
       "      <td>-4.355724e+01</td>\n",
       "      <td>-7.321672e+01</td>\n",
       "      <td>-1.343407e+01</td>\n",
       "      <td>...</td>\n",
       "      <td>-3.483038e+01</td>\n",
       "      <td>-1.093314e+01</td>\n",
       "      <td>-4.480774e+01</td>\n",
       "      <td>-2.836627e+00</td>\n",
       "      <td>-1.029540e+01</td>\n",
       "      <td>-2.604551e+00</td>\n",
       "      <td>-2.256568e+01</td>\n",
       "      <td>-1.543008e+01</td>\n",
       "      <td>0.000000</td>\n",
       "      <td>0.000000</td>\n",
       "    </tr>\n",
       "    <tr>\n",
       "      <th>25%</th>\n",
       "      <td>54201.500000</td>\n",
       "      <td>-9.203734e-01</td>\n",
       "      <td>-5.985499e-01</td>\n",
       "      <td>-8.903648e-01</td>\n",
       "      <td>-8.486401e-01</td>\n",
       "      <td>-6.915971e-01</td>\n",
       "      <td>-7.682956e-01</td>\n",
       "      <td>-5.540759e-01</td>\n",
       "      <td>-2.086297e-01</td>\n",
       "      <td>-6.430976e-01</td>\n",
       "      <td>...</td>\n",
       "      <td>-2.283949e-01</td>\n",
       "      <td>-5.423504e-01</td>\n",
       "      <td>-1.618463e-01</td>\n",
       "      <td>-3.545861e-01</td>\n",
       "      <td>-3.171451e-01</td>\n",
       "      <td>-3.269839e-01</td>\n",
       "      <td>-7.083953e-02</td>\n",
       "      <td>-5.295979e-02</td>\n",
       "      <td>5.600000</td>\n",
       "      <td>0.000000</td>\n",
       "    </tr>\n",
       "    <tr>\n",
       "      <th>50%</th>\n",
       "      <td>84692.000000</td>\n",
       "      <td>1.810880e-02</td>\n",
       "      <td>6.548556e-02</td>\n",
       "      <td>1.798463e-01</td>\n",
       "      <td>-1.984653e-02</td>\n",
       "      <td>-5.433583e-02</td>\n",
       "      <td>-2.741871e-01</td>\n",
       "      <td>4.010308e-02</td>\n",
       "      <td>2.235804e-02</td>\n",
       "      <td>-5.142873e-02</td>\n",
       "      <td>...</td>\n",
       "      <td>-2.945017e-02</td>\n",
       "      <td>6.781943e-03</td>\n",
       "      <td>-1.119293e-02</td>\n",
       "      <td>4.097606e-02</td>\n",
       "      <td>1.659350e-02</td>\n",
       "      <td>-5.213911e-02</td>\n",
       "      <td>1.342146e-03</td>\n",
       "      <td>1.124383e-02</td>\n",
       "      <td>22.000000</td>\n",
       "      <td>0.000000</td>\n",
       "    </tr>\n",
       "    <tr>\n",
       "      <th>75%</th>\n",
       "      <td>139320.500000</td>\n",
       "      <td>1.315642e+00</td>\n",
       "      <td>8.037239e-01</td>\n",
       "      <td>1.027196e+00</td>\n",
       "      <td>7.433413e-01</td>\n",
       "      <td>6.119264e-01</td>\n",
       "      <td>3.985649e-01</td>\n",
       "      <td>5.704361e-01</td>\n",
       "      <td>3.273459e-01</td>\n",
       "      <td>5.971390e-01</td>\n",
       "      <td>...</td>\n",
       "      <td>1.863772e-01</td>\n",
       "      <td>5.285536e-01</td>\n",
       "      <td>1.476421e-01</td>\n",
       "      <td>4.395266e-01</td>\n",
       "      <td>3.507156e-01</td>\n",
       "      <td>2.409522e-01</td>\n",
       "      <td>9.104512e-02</td>\n",
       "      <td>7.827995e-02</td>\n",
       "      <td>77.165000</td>\n",
       "      <td>0.000000</td>\n",
       "    </tr>\n",
       "    <tr>\n",
       "      <th>max</th>\n",
       "      <td>172792.000000</td>\n",
       "      <td>2.454930e+00</td>\n",
       "      <td>2.205773e+01</td>\n",
       "      <td>9.382558e+00</td>\n",
       "      <td>1.687534e+01</td>\n",
       "      <td>3.480167e+01</td>\n",
       "      <td>7.330163e+01</td>\n",
       "      <td>1.205895e+02</td>\n",
       "      <td>2.000721e+01</td>\n",
       "      <td>1.559499e+01</td>\n",
       "      <td>...</td>\n",
       "      <td>2.720284e+01</td>\n",
       "      <td>1.050309e+01</td>\n",
       "      <td>2.252841e+01</td>\n",
       "      <td>4.584549e+00</td>\n",
       "      <td>7.519589e+00</td>\n",
       "      <td>3.517346e+00</td>\n",
       "      <td>3.161220e+01</td>\n",
       "      <td>3.384781e+01</td>\n",
       "      <td>25691.160000</td>\n",
       "      <td>1.000000</td>\n",
       "    </tr>\n",
       "  </tbody>\n",
       "</table>\n",
       "<p>8 rows × 31 columns</p>\n",
       "</div>"
      ],
      "text/plain": [
       "                Time            V1            V2            V3            V4  \\\n",
       "count  284807.000000  2.848070e+05  2.848070e+05  2.848070e+05  2.848070e+05   \n",
       "mean    94813.859575  3.918649e-15  5.682686e-16 -8.761736e-15  2.811118e-15   \n",
       "std     47488.145955  1.958696e+00  1.651309e+00  1.516255e+00  1.415869e+00   \n",
       "min         0.000000 -5.640751e+01 -7.271573e+01 -4.832559e+01 -5.683171e+00   \n",
       "25%     54201.500000 -9.203734e-01 -5.985499e-01 -8.903648e-01 -8.486401e-01   \n",
       "50%     84692.000000  1.810880e-02  6.548556e-02  1.798463e-01 -1.984653e-02   \n",
       "75%    139320.500000  1.315642e+00  8.037239e-01  1.027196e+00  7.433413e-01   \n",
       "max    172792.000000  2.454930e+00  2.205773e+01  9.382558e+00  1.687534e+01   \n",
       "\n",
       "                 V5            V6            V7            V8            V9  \\\n",
       "count  2.848070e+05  2.848070e+05  2.848070e+05  2.848070e+05  2.848070e+05   \n",
       "mean  -1.552103e-15  2.040130e-15 -1.698953e-15 -1.893285e-16 -3.147640e-15   \n",
       "std    1.380247e+00  1.332271e+00  1.237094e+00  1.194353e+00  1.098632e+00   \n",
       "min   -1.137433e+02 -2.616051e+01 -4.355724e+01 -7.321672e+01 -1.343407e+01   \n",
       "25%   -6.915971e-01 -7.682956e-01 -5.540759e-01 -2.086297e-01 -6.430976e-01   \n",
       "50%   -5.433583e-02 -2.741871e-01  4.010308e-02  2.235804e-02 -5.142873e-02   \n",
       "75%    6.119264e-01  3.985649e-01  5.704361e-01  3.273459e-01  5.971390e-01   \n",
       "max    3.480167e+01  7.330163e+01  1.205895e+02  2.000721e+01  1.559499e+01   \n",
       "\n",
       "       ...           V21           V22           V23           V24  \\\n",
       "count  ...  2.848070e+05  2.848070e+05  2.848070e+05  2.848070e+05   \n",
       "mean   ...  1.473120e-16  8.042109e-16  5.282512e-16  4.456271e-15   \n",
       "std    ...  7.345240e-01  7.257016e-01  6.244603e-01  6.056471e-01   \n",
       "min    ... -3.483038e+01 -1.093314e+01 -4.480774e+01 -2.836627e+00   \n",
       "25%    ... -2.283949e-01 -5.423504e-01 -1.618463e-01 -3.545861e-01   \n",
       "50%    ... -2.945017e-02  6.781943e-03 -1.119293e-02  4.097606e-02   \n",
       "75%    ...  1.863772e-01  5.285536e-01  1.476421e-01  4.395266e-01   \n",
       "max    ...  2.720284e+01  1.050309e+01  2.252841e+01  4.584549e+00   \n",
       "\n",
       "                V25           V26           V27           V28         Amount  \\\n",
       "count  2.848070e+05  2.848070e+05  2.848070e+05  2.848070e+05  284807.000000   \n",
       "mean   1.426896e-15  1.701640e-15 -3.662252e-16 -1.217809e-16      88.349619   \n",
       "std    5.212781e-01  4.822270e-01  4.036325e-01  3.300833e-01     250.120109   \n",
       "min   -1.029540e+01 -2.604551e+00 -2.256568e+01 -1.543008e+01       0.000000   \n",
       "25%   -3.171451e-01 -3.269839e-01 -7.083953e-02 -5.295979e-02       5.600000   \n",
       "50%    1.659350e-02 -5.213911e-02  1.342146e-03  1.124383e-02      22.000000   \n",
       "75%    3.507156e-01  2.409522e-01  9.104512e-02  7.827995e-02      77.165000   \n",
       "max    7.519589e+00  3.517346e+00  3.161220e+01  3.384781e+01   25691.160000   \n",
       "\n",
       "               Class  \n",
       "count  284807.000000  \n",
       "mean        0.001727  \n",
       "std         0.041527  \n",
       "min         0.000000  \n",
       "25%         0.000000  \n",
       "50%         0.000000  \n",
       "75%         0.000000  \n",
       "max         1.000000  \n",
       "\n",
       "[8 rows x 31 columns]"
      ]
     },
     "execution_count": 3,
     "metadata": {},
     "output_type": "execute_result"
    }
   ],
   "source": [
    "dataframe.describe()"
   ]
  },
  {
   "cell_type": "markdown",
   "id": "dd1a0c72",
   "metadata": {},
   "source": [
    "# Data Preprocessing"
   ]
  },
  {
   "cell_type": "code",
   "execution_count": 4,
   "id": "4375edca",
   "metadata": {},
   "outputs": [
    {
     "data": {
      "text/plain": [
       "False"
      ]
     },
     "execution_count": 4,
     "metadata": {},
     "output_type": "execute_result"
    }
   ],
   "source": [
    "# check for NAN values in dataset\n",
    "dataframe.isnull().values.any()"
   ]
  },
  {
   "cell_type": "markdown",
   "id": "52723d85",
   "metadata": {},
   "source": [
    "This means there are no NULL or NAN values in the dataset\n",
    "\n",
    "Now lets check the class labels that we need to predict and its distribution in trainset"
   ]
  },
  {
   "cell_type": "code",
   "execution_count": 5,
   "id": "2c678533",
   "metadata": {},
   "outputs": [
    {
     "name": "stdout",
     "output_type": "stream",
     "text": [
      "FRAUD TRANSACTIONS = 492\n",
      "VALID TRANSACTIONS = 284315\n",
      "% of Fraud Transactions = 0.1727485630620034\n"
     ]
    }
   ],
   "source": [
    "fraud_transactions = dataframe[dataframe['Class'] == 1] \n",
    "valid_transactions = dataframe[dataframe['Class'] == 0] \n",
    "print(\"FRAUD TRANSACTIONS = \" + str(len(fraud_transactions)))\n",
    "print(\"VALID TRANSACTIONS = \" + str(len(valid_transactions)))\n",
    "print(\"% of Fraud Transactions = \" + str((len(fraud_transactions)/(len(fraud_transactions)+len(valid_transactions)))*100))"
   ]
  },
  {
   "cell_type": "code",
   "execution_count": 6,
   "id": "93bfede2",
   "metadata": {},
   "outputs": [
    {
     "data": {
      "image/png": "[encoded data removed]",
      "text/plain": [
       "<Figure size 432x288 with 1 Axes>"
      ]
     },
     "metadata": {
      "needs_background": "light"
     },
     "output_type": "display_data"
    },
    {
     "data": {
      "text/plain": [
       "<Figure size 432x288 with 0 Axes>"
      ]
     },
     "metadata": {},
     "output_type": "display_data"
    }
   ],
   "source": [
    "labels = [\"Valid\", \"Fraud\"]\n",
    "count_classes = dataframe.value_counts(dataframe['Class'], sort= True)\n",
    "count_classes.plot(kind = \"bar\", rot = 0)\n",
    "plt.title(\"Analysis of Type of Transactions\")\n",
    "plt.ylabel(\"Count\")\n",
    "plt.xticks(range(2), labels)\n",
    "plt.show()\n",
    "plt.savefig(f\"./images/CreditFraudClasses.png\")"
   ]
  },
  {
   "cell_type": "markdown",
   "id": "df25dfe1",
   "metadata": {},
   "source": [
    "From our dataset, we can see majority of transactions are valid. Fraud transactions contribute to only 0.17% of entire data which makes our dataset highly imbalanced\n",
    "\n",
    "Also we can see V1 to V28 are independent features and we can assume they are not correlated with Class we want to predict. \n",
    "\n",
    "Lets check if the columns \"Time\" and \"Amount\" can be used in predictions"
   ]
  },
  {
   "cell_type": "code",
   "execution_count": 7,
   "id": "127be9b4",
   "metadata": {},
   "outputs": [
    {
     "data": {
      "image/png": "[encoded data removed]",
      "text/plain": [
       "<Figure size 432x288 with 1 Axes>"
      ]
     },
     "metadata": {
      "needs_background": "light"
     },
     "output_type": "display_data"
    },
    {
     "data": {
      "text/plain": [
       "<Figure size 432x288 with 0 Axes>"
      ]
     },
     "metadata": {},
     "output_type": "display_data"
    }
   ],
   "source": [
    "# visualizing the correlation between time and class\n",
    "class_0 = dataframe.loc[dataframe['Class'] == 0][\"Time\"]\n",
    "class_1 = dataframe.loc[dataframe['Class'] == 1][\"Time\"]\n",
    "hist_data = [class_0, class_1]\n",
    "group_labels = ['Valid', 'Fraud']\n",
    "plt.hist(np.array(hist_data,dtype=object), bins=10)\n",
    "plt.show()\n",
    "plt.savefig(f\"./images/CreditFraud_TimeVsClass.png\")"
   ]
  },
  {
   "cell_type": "markdown",
   "id": "1d6e0257",
   "metadata": {},
   "source": [
    "We now understood that time and class are not correlated. Lets explore Amount"
   ]
  },
  {
   "cell_type": "code",
   "execution_count": 8,
   "id": "3f72885c",
   "metadata": {},
   "outputs": [
    {
     "data": {
      "image/png": "[encoded data removed]",
      "text/plain": [
       "<Figure size 432x288 with 1 Axes>"
      ]
     },
     "metadata": {
      "needs_background": "light"
     },
     "output_type": "display_data"
    },
    {
     "data": {
      "text/plain": [
       "<Figure size 432x288 with 0 Axes>"
      ]
     },
     "metadata": {},
     "output_type": "display_data"
    }
   ],
   "source": [
    "class_0 = dataframe.loc[dataframe['Class'] == 0]['Amount']\n",
    "class_1 = dataframe.loc[dataframe['Class'] == 1]['Amount']\n",
    "hist_data = [class_0, class_1]\n",
    "group_labels = ['Valid', 'Fraud']\n",
    "plt.hist(np.array(hist_data,dtype=object), bins=3)\n",
    "plt.show()\n",
    "plt.savefig(f\"./images/CreditFraud_AmountVsClass.png\")"
   ]
  },
  {
   "cell_type": "code",
   "execution_count": 9,
   "id": "4cbd38a0",
   "metadata": {},
   "outputs": [
    {
     "data": {
      "image/png": "[encoded data removed]",
      "text/plain": [
       "<Figure size 864x864 with 2 Axes>"
      ]
     },
     "metadata": {
      "needs_background": "light"
     },
     "output_type": "display_data"
    },
    {
     "data": {
      "text/plain": [
       "<Figure size 432x288 with 0 Axes>"
      ]
     },
     "metadata": {},
     "output_type": "display_data"
    }
   ],
   "source": [
    "# plotting the correlation matrix\n",
    "corrmatrix = dataframe.corr() \n",
    "fig = plt.figure(figsize = (12, 12)) \n",
    "sns.heatmap(corrmatrix, vmax = .8, square = True) \n",
    "plt.show() \n",
    "plt.savefig(f\"./images/CreditFraud_CorrelationMatrix.png\")"
   ]
  },
  {
   "cell_type": "code",
   "execution_count": 10,
   "id": "cf849eaa",
   "metadata": {},
   "outputs": [],
   "source": [
    "# Applying scaling on Amount column\n",
    "scaler = StandardScaler()\n",
    "dataframe[\"NormalizedAmount\"] = scaler.fit_transform(dataframe[\"Amount\"].values.reshape(-1, 1))\n",
    "dataframe.drop([\"Amount\"], inplace= True, axis= 1)\n",
    "Y = dataframe[\"Class\"]\n",
    "X = dataframe.drop([\"Class\"], axis= 1)"
   ]
  },
  {
   "cell_type": "markdown",
   "id": "d37675f4",
   "metadata": {},
   "source": [
    "Now split the data into train, test and validation sets"
   ]
  },
  {
   "cell_type": "code",
   "execution_count": 11,
   "id": "57935f8d",
   "metadata": {},
   "outputs": [
    {
     "name": "stdout",
     "output_type": "stream",
     "text": [
      "Length of train_set is: 182276\n",
      "Length of test_set is: 56962\n",
      "Length of validation_set is: 45569\n"
     ]
    }
   ],
   "source": [
    "train_df, test_df = train_test_split(dataframe, test_size=0.2, random_state=42, shuffle=True)\n",
    "train_df, valid_df = train_test_split(train_df, test_size=0.2, random_state=42, shuffle=True)\n",
    "print(\"Length of train_set is: {X_train}\".format(X_train = len(train_df)))\n",
    "print(\"Length of test_set is: {X_test}\".format(X_test = len(test_df)))\n",
    "print(\"Length of validation_set is: {y_train}\".format(y_train = len(valid_df)))"
   ]
  },
  {
   "cell_type": "code",
   "execution_count": 12,
   "id": "0944de27",
   "metadata": {},
   "outputs": [
    {
     "data": {
      "text/plain": [
       "((182276, 30), (182276,), (56962, 30), (56962,), (45569, 30), (45569,))"
      ]
     },
     "execution_count": 12,
     "metadata": {},
     "output_type": "execute_result"
    }
   ],
   "source": [
    "X_train = train_df.drop(\"Class\", axis=1)\n",
    "Y_train = train_df[\"Class\"]\n",
    "X_test = test_df.drop(\"Class\", axis=1)\n",
    "Y_test = test_df[\"Class\"]\n",
    "X_valid = valid_df.drop(\"Class\", axis=1)\n",
    "Y_valid = valid_df[\"Class\"]\n",
    "X_train.shape, Y_train.shape, X_test.shape, Y_test.shape, X_valid.shape, Y_valid.shape,"
   ]
  },
  {
   "cell_type": "markdown",
   "id": "1085453f",
   "metadata": {},
   "source": [
    "# Machine Learning"
   ]
  },
  {
   "cell_type": "code",
   "execution_count": 13,
   "id": "28284605",
   "metadata": {},
   "outputs": [],
   "source": [
    "def evaluation_metrics(y_test, y_pred, model):\n",
    "    n_errors = (y_pred != y_test).sum() \n",
    "    print(\"The model used is \" + str(model)) \n",
    "    acc = accuracy_score(y_test, y_pred) \n",
    "    print(\"The accuracy is {}\".format(acc)) \n",
    "    prec = precision_score(y_test, y_pred) \n",
    "    print(\"The precision is {}\".format(prec)) \n",
    "    rec = recall_score(y_test, y_pred) \n",
    "    print(\"The recall is {}\".format(rec)) \n",
    "    f1 = f1_score(y_test, y_pred) \n",
    "    print(\"The F1-Score is {}\".format(f1)) \n",
    "    MCC = matthews_corrcoef(y_test, y_pred) \n",
    "    print(\"The Matthews correlation coefficient is {}\".format(MCC)) \n",
    "    AUC = roc_auc_score(y_test, y_pred)\n",
    "    print(\"The ROC-AUC Score is {}\".format(AUC)) "
   ]
  },
  {
   "cell_type": "code",
   "execution_count": 14,
   "id": "b9e9a29e",
   "metadata": {},
   "outputs": [],
   "source": [
    "def plot_confusion_matrix(y_test, y_pred, model):\n",
    "    class_labels = ['NotFraud', 'Fraud'] \n",
    "    conf_matrix = confusion_matrix(y_test, y_pred) \n",
    "    plt.figure(figsize =(5, 5)) \n",
    "    sns.heatmap(conf_matrix, xticklabels = class_labels, yticklabels = class_labels, annot = True, fmt =\"d\"); \n",
    "    plt.title(\"Confusion matrix of \" + str(model)) \n",
    "    plt.ylabel('True class') \n",
    "    plt.xlabel('Predicted class') \n",
    "    plt.show() \n",
    "    plt.savefig(f\"./images/CreditFraud_\"+str(model)+\".png\")"
   ]
  },
  {
   "cell_type": "code",
   "execution_count": 15,
   "id": "fa78b971",
   "metadata": {},
   "outputs": [
    {
     "name": "stdout",
     "output_type": "stream",
     "text": [
      "The model used is DecisionTreeClassifier\n",
      "The accuracy is 0.9991046662687406\n",
      "The precision is 0.7373737373737373\n",
      "The recall is 0.7448979591836735\n",
      "The F1-Score is 0.7411167512690355\n",
      "The Matthews correlation coefficient is 0.7406778962759477\n",
      "The ROC-AUC Score is 0.8722203639474924\n"
     ]
    },
    {
     "data": {
      "image/png": "[encoded data removed]",
      "text/plain": [
       "<Figure size 360x360 with 2 Axes>"
      ]
     },
     "metadata": {
      "needs_background": "light"
     },
     "output_type": "display_data"
    },
    {
     "data": {
      "text/plain": [
       "<Figure size 432x288 with 0 Axes>"
      ]
     },
     "metadata": {},
     "output_type": "display_data"
    }
   ],
   "source": [
    "# Decision Trees Classifier\n",
    " \n",
    "dtc = DecisionTreeClassifier() \n",
    "dtc.fit(X_train, Y_train) \n",
    "dtc_Y_pred = dtc.predict(X_test) \n",
    "\n",
    "evaluation_metrics(Y_test,dtc_Y_pred, \"DecisionTreeClassifier\")\n",
    "plot_confusion_matrix(Y_test,dtc_Y_pred, \"DecisionTreeClassifier\")"
   ]
  },
  {
   "cell_type": "code",
   "execution_count": 16,
   "id": "fb4209e9",
   "metadata": {},
   "outputs": [
    {
     "name": "stdout",
     "output_type": "stream",
     "text": [
      "The model used is RandomForestClassifier\n",
      "The accuracy is 0.9995611109160493\n",
      "The precision is 0.974025974025974\n",
      "The recall is 0.7653061224489796\n",
      "The F1-Score is 0.8571428571428571\n",
      "The Matthews correlation coefficient is 0.8631826952924256\n",
      "The ROC-AUC Score is 0.8826354754056941\n"
     ]
    },
    {
     "data": {
      "image/png": "[encoded data removed]",
      "text/plain": [
       "<Figure size 360x360 with 2 Axes>"
      ]
     },
     "metadata": {
      "needs_background": "light"
     },
     "output_type": "display_data"
    },
    {
     "data": {
      "text/plain": [
       "<Figure size 432x288 with 0 Axes>"
      ]
     },
     "metadata": {},
     "output_type": "display_data"
    }
   ],
   "source": [
    "# Random Forest Classifier\n",
    " \n",
    "rfc = RandomForestClassifier() \n",
    "rfc.fit(X_train, Y_train) \n",
    "rfc_Y_pred = rfc.predict(X_test) \n",
    "\n",
    "evaluation_metrics(Y_test,rfc_Y_pred, \"RandomForestClassifier\")\n",
    "plot_confusion_matrix(Y_test,rfc_Y_pred, \"RandomForestClassifier\")"
   ]
  },
  {
   "cell_type": "code",
   "execution_count": 17,
   "id": "66569c8d",
   "metadata": {},
   "outputs": [
    {
     "name": "stdout",
     "output_type": "stream",
     "text": [
      "The model used is KNearestNeighborClassification\n",
      "The accuracy is 0.9984551104244935\n",
      "The precision is 1.0\n",
      "The recall is 0.10204081632653061\n",
      "The F1-Score is 0.1851851851851852\n",
      "The Matthews correlation coefficient is 0.31919139533099466\n",
      "The ROC-AUC Score is 0.5510204081632653\n"
     ]
    },
    {
     "data": {
      "image/png": "[encoded data removed]",
      "text/plain": [
       "<Figure size 360x360 with 2 Axes>"
      ]
     },
     "metadata": {
      "needs_background": "light"
     },
     "output_type": "display_data"
    },
    {
     "data": {
      "text/plain": [
       "<Figure size 432x288 with 0 Axes>"
      ]
     },
     "metadata": {},
     "output_type": "display_data"
    }
   ],
   "source": [
    "# K-Nearest Neighbours\n",
    "knn = KNeighborsClassifier(n_neighbors = 5)\n",
    "knn.fit(X_train, Y_train)\n",
    "knn_Y_pred = knn.predict(X_test) \n",
    "\n",
    "evaluation_metrics(Y_test,knn_Y_pred, \"KNearestNeighborClassification\")\n",
    "plot_confusion_matrix(Y_test,knn_Y_pred, \"KNearestNeighborClassification\")"
   ]
  },
  {
   "cell_type": "code",
   "execution_count": 19,
   "id": "02e0d308",
   "metadata": {},
   "outputs": [
    {
     "name": "stdout",
     "output_type": "stream",
     "text": [
      "The model used is SupportVectorClassificationWithLinearKernel\n",
      "The accuracy is 0.9984375548611355\n",
      "The precision is 0.5918367346938775\n",
      "The recall is 0.29591836734693877\n",
      "The F1-Score is 0.3945578231292517\n",
      "The Matthews correlation coefficient is 0.4178143887527753\n",
      "The ROC-AUC Score is 0.6477833254855122\n"
     ]
    },
    {
     "data": {
      "image/png": "[encoded data removed]",
      "text/plain": [
       "<Figure size 360x360 with 2 Axes>"
      ]
     },
     "metadata": {
      "needs_background": "light"
     },
     "output_type": "display_data"
    },
    {
     "name": "stdout",
     "output_type": "stream",
     "text": [
      "The model used is SupportVectorClassificationWithRbfKernel\n",
      "The accuracy is 0.9982795547909132\n",
      "The precision is 0.0\n",
      "The recall is 0.0\n",
      "The F1-Score is 0.0\n",
      "The Matthews correlation coefficient is 0.0\n",
      "The ROC-AUC Score is 0.5\n"
     ]
    },
    {
     "name": "stderr",
     "output_type": "stream",
     "text": [
      "/Users/sravya/opt/anaconda3/lib/python3.9/site-packages/sklearn/metrics/_classification.py:1318: UndefinedMetricWarning:\n",
      "\n",
      "Precision is ill-defined and being set to 0.0 due to no predicted samples. Use `zero_division` parameter to control this behavior.\n",
      "\n"
     ]
    },
    {
     "data": {
      "text/plain": [
       "<Figure size 432x288 with 0 Axes>"
      ]
     },
     "metadata": {},
     "output_type": "display_data"
    },
    {
     "data": {
      "image/png": "[encoded data removed]",
      "text/plain": [
       "<Figure size 360x360 with 2 Axes>"
      ]
     },
     "metadata": {
      "needs_background": "light"
     },
     "output_type": "display_data"
    },
    {
     "name": "stdout",
     "output_type": "stream",
     "text": [
      "The model used is SupportVectorClassificationWithPolyKernel\n",
      "The accuracy is 0.9982795547909132\n",
      "The precision is 0.0\n",
      "The recall is 0.0\n",
      "The F1-Score is 0.0\n",
      "The Matthews correlation coefficient is 0.0\n",
      "The ROC-AUC Score is 0.5\n"
     ]
    },
    {
     "name": "stderr",
     "output_type": "stream",
     "text": [
      "/Users/sravya/opt/anaconda3/lib/python3.9/site-packages/sklearn/metrics/_classification.py:1318: UndefinedMetricWarning:\n",
      "\n",
      "Precision is ill-defined and being set to 0.0 due to no predicted samples. Use `zero_division` parameter to control this behavior.\n",
      "\n"
     ]
    },
    {
     "data": {
      "text/plain": [
       "<Figure size 432x288 with 0 Axes>"
      ]
     },
     "metadata": {},
     "output_type": "display_data"
    },
    {
     "data": {
      "image/png": "[encoded data removed]",
      "text/plain": [
       "<Figure size 360x360 with 2 Axes>"
      ]
     },
     "metadata": {
      "needs_background": "light"
     },
     "output_type": "display_data"
    },
    {
     "name": "stdout",
     "output_type": "stream",
     "text": [
      "The model used is SupportVectorClassificationWithSigmoidKernel\n",
      "The accuracy is 0.9982795547909132\n",
      "The precision is 0.0\n",
      "The recall is 0.0\n",
      "The F1-Score is 0.0\n",
      "The Matthews correlation coefficient is 0.0\n",
      "The ROC-AUC Score is 0.5\n"
     ]
    },
    {
     "name": "stderr",
     "output_type": "stream",
     "text": [
      "/Users/sravya/opt/anaconda3/lib/python3.9/site-packages/sklearn/metrics/_classification.py:1318: UndefinedMetricWarning:\n",
      "\n",
      "Precision is ill-defined and being set to 0.0 due to no predicted samples. Use `zero_division` parameter to control this behavior.\n",
      "\n"
     ]
    },
    {
     "data": {
      "text/plain": [
       "<Figure size 432x288 with 0 Axes>"
      ]
     },
     "metadata": {},
     "output_type": "display_data"
    },
    {
     "data": {
      "image/png": "[encoded data removed]",
      "text/plain": [
       "<Figure size 360x360 with 2 Axes>"
      ]
     },
     "metadata": {
      "needs_background": "light"
     },
     "output_type": "display_data"
    },
    {
     "data": {
      "text/plain": [
       "<Figure size 432x288 with 0 Axes>"
      ]
     },
     "metadata": {},
     "output_type": "display_data"
    }
   ],
   "source": [
    "# Support Vector Machines\n",
    "\n",
    "svc1 = SVC(random_state=42, kernel='linear')\n",
    "svc1.fit(X_train, Y_train)\n",
    "svc1_Y_pred = svc1.predict(X_test)\n",
    "evaluation_metrics(Y_test,svc1_Y_pred, \"SupportVectorClassificationWithLinearKernel\")\n",
    "plot_confusion_matrix(Y_test,svc1_Y_pred, \"SupportVectorClassificationWithLinearKernel\")\n",
    "\n",
    "svc2 = SVC(random_state=42, kernel='rbf')\n",
    "svc2.fit(X_train, Y_train)\n",
    "svc2_Y_pred = svc2.predict(X_test)\n",
    "evaluation_metrics(Y_test,svc2_Y_pred, \"SupportVectorClassificationWithRbfKernel\")\n",
    "plot_confusion_matrix(Y_test,svc2_Y_pred, \"SupportVectorClassificationWithRbfKernel\")\n",
    "\n",
    "svc3 = SVC(random_state=42, kernel='poly')\n",
    "svc3.fit(X_train, Y_train)\n",
    "svc3_Y_pred = svc3.predict(X_test)\n",
    "evaluation_metrics(Y_test,svc3_Y_pred, \"SupportVectorClassificationWithPolyKernel\")\n",
    "plot_confusion_matrix(Y_test,svc3_Y_pred, \"SupportVectorClassificationWithPolyKernel\")\n",
    "\n",
    "svc4 = SVC(random_state=42, kernel='sigmoid')\n",
    "svc4.fit(X_train, Y_train)\n",
    "svc4_Y_pred = svc4.predict(X_test)\n",
    "evaluation_metrics(Y_test,svc4_Y_pred, \"SupportVectorClassificationWithSigmoidKernel\")\n",
    "plot_confusion_matrix(Y_test,svc4_Y_pred, \"SupportVectorClassificationWithSigmoidKernel\")"
   ]
  },
  {
   "cell_type": "code",
   "execution_count": 20,
   "id": "e9e23258",
   "metadata": {},
   "outputs": [
    {
     "name": "stdout",
     "output_type": "stream",
     "text": [
      "The model used is AdaBoostClassification\n",
      "The accuracy is 0.9993153330290369\n",
      "The precision is 0.8554216867469879\n",
      "The recall is 0.7244897959183674\n",
      "The F1-Score is 0.7845303867403315\n",
      "The Matthews correlation coefficient is 0.7869053021234045\n",
      "The ROC-AUC Score is 0.8621393830464094\n"
     ]
    },
    {
     "data": {
      "image/png": "[encoded data removed]",
      "text/plain": [
       "<Figure size 360x360 with 2 Axes>"
      ]
     },
     "metadata": {
      "needs_background": "light"
     },
     "output_type": "display_data"
    },
    {
     "data": {
      "text/plain": [
       "<Figure size 432x288 with 0 Axes>"
      ]
     },
     "metadata": {},
     "output_type": "display_data"
    }
   ],
   "source": [
    "# Boosting\n",
    "adc = AdaBoostClassifier(random_state=42,\n",
    "                         algorithm='SAMME.R',\n",
    "                         learning_rate=0.8,\n",
    "                         n_estimators=100)\n",
    "adc.fit(X_train, Y_train)\n",
    "adc_Y_pred = adc.predict(X_test) \n",
    "\n",
    "evaluation_metrics(Y_test,adc_Y_pred, \"AdaBoostClassification\")\n",
    "plot_confusion_matrix(Y_test,adc_Y_pred, \"AdaBoostClassification\")"
   ]
  },
  {
   "cell_type": "code",
   "execution_count": 21,
   "id": "8632a661",
   "metadata": {},
   "outputs": [
    {
     "name": "stdout",
     "output_type": "stream",
     "text": [
      "The model used is SingleLayerPerceptronClassification\n",
      "The accuracy is 0.9982795547909132\n",
      "The precision is 0.0\n",
      "The recall is 0.0\n",
      "The F1-Score is 0.0\n",
      "The Matthews correlation coefficient is 0.0\n",
      "The ROC-AUC Score is 0.5\n"
     ]
    },
    {
     "name": "stderr",
     "output_type": "stream",
     "text": [
      "/Users/sravya/opt/anaconda3/lib/python3.9/site-packages/sklearn/metrics/_classification.py:1318: UndefinedMetricWarning:\n",
      "\n",
      "Precision is ill-defined and being set to 0.0 due to no predicted samples. Use `zero_division` parameter to control this behavior.\n",
      "\n"
     ]
    },
    {
     "data": {
      "image/png": "[encoded data removed]",
      "text/plain": [
       "<Figure size 360x360 with 2 Axes>"
      ]
     },
     "metadata": {
      "needs_background": "light"
     },
     "output_type": "display_data"
    },
    {
     "data": {
      "text/plain": [
       "<Figure size 432x288 with 0 Axes>"
      ]
     },
     "metadata": {},
     "output_type": "display_data"
    }
   ],
   "source": [
    "# Single Layer Neural Network\n",
    "slp = Perceptron(max_iter=300)\n",
    "slp.fit(X_train, Y_train)\n",
    "\n",
    "slp.fit(X_train, Y_train)\n",
    "slp_Y_pred = slp.predict(X_test) \n",
    "\n",
    "evaluation_metrics(Y_test,slp_Y_pred,\"SingleLayerPerceptronClassification\")\n",
    "plot_confusion_matrix(Y_test,slp_Y_pred,\"SingleLayerPerceptronClassification\")"
   ]
  },
  {
   "cell_type": "code",
   "execution_count": 22,
   "id": "babceb5e",
   "metadata": {},
   "outputs": [
    {
     "name": "stdout",
     "output_type": "stream",
     "text": [
      "The model used is MultiLayerPerceptronClassification\n",
      "The accuracy is 0.9982795547909132\n",
      "The precision is 0.0\n",
      "The recall is 0.0\n",
      "The F1-Score is 0.0\n",
      "The Matthews correlation coefficient is 0.0\n",
      "The ROC-AUC Score is 0.5\n"
     ]
    },
    {
     "name": "stderr",
     "output_type": "stream",
     "text": [
      "/Users/sravya/opt/anaconda3/lib/python3.9/site-packages/sklearn/metrics/_classification.py:1318: UndefinedMetricWarning:\n",
      "\n",
      "Precision is ill-defined and being set to 0.0 due to no predicted samples. Use `zero_division` parameter to control this behavior.\n",
      "\n"
     ]
    },
    {
     "data": {
      "image/png": "[encoded data removed]",
      "text/plain": [
       "<Figure size 360x360 with 2 Axes>"
      ]
     },
     "metadata": {
      "needs_background": "light"
     },
     "output_type": "display_data"
    },
    {
     "data": {
      "text/plain": [
       "<Figure size 432x288 with 0 Axes>"
      ]
     },
     "metadata": {},
     "output_type": "display_data"
    }
   ],
   "source": [
    "# Multi Layer Neural Networks\n",
    "mlpc = MLPClassifier(hidden_layer_sizes=(150,100,50), \n",
    "                     max_iter=300,\n",
    "                     activation = 'relu',\n",
    "                     solver='adam',\n",
    "                     random_state=1)\n",
    "mlpc.fit(X_train, Y_train)\n",
    "mlpc_Y_pred = mlpc.predict(X_test) \n",
    "\n",
    "evaluation_metrics(Y_test,mlpc_Y_pred,\"MultiLayerPerceptronClassification\")\n",
    "plot_confusion_matrix(Y_test,mlpc_Y_pred,\"MultiLayerPerceptronClassification\")"
   ]
  },
  {
   "cell_type": "code",
   "execution_count": 23,
   "id": "78e26469",
   "metadata": {},
   "outputs": [
    {
     "data": {
      "image/png": "[encoded data removed]",
      "text/plain": [
       "<Figure size 432x288 with 1 Axes>"
      ]
     },
     "metadata": {
      "needs_background": "light"
     },
     "output_type": "display_data"
    },
    {
     "data": {
      "text/plain": [
       "<Figure size 432x288 with 0 Axes>"
      ]
     },
     "metadata": {},
     "output_type": "display_data"
    }
   ],
   "source": [
    "# Comparison of area under curve metric for various models\n",
    "model = [\"Decision_Trees\", \"Random_Forests\", \"K_Nearest_Neighbours\", \"Support_Vector_Classification\", \n",
    "         \"Adaboost_Classifier\", \"Multi_Layer_Perceptron\"]\n",
    "auc_results = [0.87,0.90,0.55,0.64,0.86,0.5]\n",
    "plt.plot(auc_results,model,color='green', marker='o',linewidth=2, markersize=12)\n",
    "plt.title(\"Model vs AreaUnderCurve Analysis\")\n",
    "plt.ylabel(\"Model\")\n",
    "plt.xlabel(\"roc_auc\")\n",
    "plt.show()\n",
    "plt.savefig(f\"./images/CreditFraud_Models_AUC.png\")"
   ]
  },
  {
   "cell_type": "code",
   "execution_count": 24,
   "id": "6a709d7a",
   "metadata": {},
   "outputs": [
    {
     "data": {
      "image/png": "[encoded data removed]",
      "text/plain": [
       "<Figure size 432x288 with 1 Axes>"
      ]
     },
     "metadata": {
      "needs_background": "light"
     },
     "output_type": "display_data"
    },
    {
     "data": {
      "text/plain": [
       "<Figure size 432x288 with 0 Axes>"
      ]
     },
     "metadata": {},
     "output_type": "display_data"
    }
   ],
   "source": [
    "# Comparison of accuracy metric for various models\n",
    "model = [\"Decision_Trees\", \"Random_Forests\", \"K_Nearest_Neighbours\", \"Support_Vector_Classification\", \n",
    "         \"Adaboost_Classifier\", \"Multi_Layer_Perceptron\"]\n",
    "acc_results = [0.9992,0.9996,0.9984,0.9983,0.9993,0.9982]\n",
    "plt.plot(acc_results,model, marker='*',linewidth=2, markersize=12)\n",
    "plt.title(\"Model vs Accuracy Analysis\")\n",
    "plt.ylabel(\"Model\")\n",
    "plt.xlabel(\"accuracy\")\n",
    "plt.show()\n",
    "plt.savefig(f\"./images/CreditFraud_Models_Accuracy.png\")"
   ]
  },
  {
   "cell_type": "markdown",
   "id": "b865680d",
   "metadata": {},
   "source": [
    "From this analysis, we can infer RandomForest classifier worked well compared to the other models used in Predicting Credit card Fraud transactions\n",
    "\n",
    "Lets generate csv file with RandomForest classifier predictions for the given problem set"
   ]
  },
  {
   "cell_type": "code",
   "execution_count": 25,
   "id": "5f457381",
   "metadata": {},
   "outputs": [],
   "source": [
    "submission = pd.DataFrame({\n",
    "        \"Id\": np.arange(0, len(X_test)) + 1,\n",
    "        \"Class\": rfc_Y_pred\n",
    "    })\n",
    "submission.to_csv('submission_creditfraud.csv', index=False)"
   ]
  }
 ],
 "metadata": {
  "kernelspec": {
   "display_name": "Python 3 (ipykernel)",
   "language": "python",
   "name": "python3"
  },
  "language_info": {
   "codemirror_mode": {
    "name": "ipython",
    "version": 3
   },
   "file_extension": ".py",
   "mimetype": "text/x-python",
   "name": "python",
   "nbconvert_exporter": "python",
   "pygments_lexer": "ipython3",
   "version": "3.9.12"
  }
 },
 "nbformat": 4,
 "nbformat_minor": 5
}
